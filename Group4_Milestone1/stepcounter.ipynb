{
 "cells": [
  {
   "cell_type": "code",
   "execution_count": null,
   "metadata": {},
   "outputs": [],
   "source": [
    "#basic step counter\n",
    "#on pressing button A - reset step count\n",
    "#on a certain threshold - print message hurray\n",
    "\n",
    "def on_button_pressed_a():\n",
    "    global steps\n",
    "    steps = 0\n",
    "    basic.show_number(steps)\n",
    "    basic.show_string(\"Start Over!\")\n",
    "input.on_button_pressed(Button.A, on_button_pressed_a)\n",
    "\n",
    "def on_gesture_shake():\n",
    "    global steps\n",
    "    if input.acceleration(Dimension.STRENGTH) > 1:\n",
    "        steps += 1\n",
    "        basic.show_number(steps)\n",
    "input.on_gesture(Gesture.SHAKE, on_gesture_shake)\n",
    "\n",
    "steps = 0\n",
    "steps = 0\n",
    "basic.show_string(\"Hello!\")\n",
    "\n",
    "def on_forever():\n",
    "    if steps >= 10:\n",
    "        basic.show_string(\"Hooray!\")\n",
    "basic.forever(on_forever)"
   ]
  },
  {
   "cell_type": "code",
   "execution_count": null,
   "metadata": {},
   "outputs": [],
   "source": []
  }
 ],
 "metadata": {
  "kernelspec": {
   "display_name": "Python 3.9.2 64-bit",
   "language": "python",
   "name": "python392jvsc74a57bd0aee8b7b246df8f9039afb4144a1f6fd8d2ca17a180786b69acc140d282b71a49"
  },
  "language_info": {
   "codemirror_mode": {
    "name": "ipython",
    "version": 3
   },
   "file_extension": ".py",
   "mimetype": "text/x-python",
   "name": "python",
   "nbconvert_exporter": "python",
   "pygments_lexer": "ipython3",
   "version": "3.9.2"
  }
 },
 "nbformat": 4,
 "nbformat_minor": 4
}

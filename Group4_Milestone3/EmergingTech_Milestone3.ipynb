{
  "nbformat": 4,
  "nbformat_minor": 0,
  "metadata": {
    "colab": {
      "name": "EmergingTech_Milestone3.ipynb",
      "provenance": [],
      "collapsed_sections": []
    },
    "kernelspec": {
      "name": "python3",
      "display_name": "Python 3"
    },
    "language_info": {
      "name": "python"
    }
  },
  "cells": [
    {
      "cell_type": "markdown",
      "metadata": {
        "id": "F9P_--WW4b6V"
      },
      "source": [
        "# **<font color=blue>Project Milestone 3</font>** \n",
        "\n",
        "**Team - Group 4** \n",
        " \n",
        "- Shreya Bakshi           *sb59344*\n",
        "- Rathi Kannan            *rk27867*\n",
        "- Gowtami Khambhampati    *gk6952*\n",
        "- Danqing Wang            *dw33369*"
      ]
    },
    {
      "cell_type": "markdown",
      "metadata": {
        "id": "F3TN-sAFSpBH"
      },
      "source": [
        "[Demo video](https://photos.google.com/share/AF1QipNCCWvpVpogFtyLGQ3DGdFIOV7uPrHxqj6Tmr_jyHojt1ffxPbrgE-24gEdvfztkA?key=d2FQZUlaSHZGNUpPckpDM0sxODcyaVBBdFpUQmdB)"
      ]
    },
    {
      "cell_type": "markdown",
      "metadata": {
        "id": "96p4H-fn7IPg"
      },
      "source": [
        "# **<font color=blue>Step 5: Submit as described in Step 5</font>**"
      ]
    },
    {
      "cell_type": "markdown",
      "metadata": {
        "id": "N4oETttC4TvZ"
      },
      "source": [
        "**Step 5: Pause. What have you done so far? Draw an architecture diagram that depicts the architectural \n",
        "components of your “system” and how they fit together. Who is subscribing/publishing? Where’s the \n",
        "broker? How do the software components relate to your hardware components? You should reference the \n",
        "diagrams in the lecture about MQTT, but you will have additional information. Write an accompanying \n",
        "paragraph for your diagram to describe (in your own words) what’s happening.**"
      ]
    },
    {
      "cell_type": "markdown",
      "metadata": {
        "id": "dOLq9NdUNsYW"
      },
      "source": [
        "**Architecture diagram**             \n",
        "*Please note: Microbit comes into play in Step 8.*"
      ]
    },
    {
      "cell_type": "markdown",
      "metadata": {
        "id": "898-5-DVQbny"
      },
      "source": [
        "![picture](https://drive.google.com/uc?id=1jUyClwk6vv-om2HhSebwHhREZ0-WUTYj)"
      ]
    },
    {
      "cell_type": "markdown",
      "metadata": {
        "id": "CnwFoxbs40Qa"
      },
      "source": [
        "**Sequence diagram**"
      ]
    },
    {
      "cell_type": "markdown",
      "metadata": {
        "id": "9EzKdyZl43ta"
      },
      "source": [
        "![picture](https://drive.google.com/uc?id=1yDBq_b7GajesCgKhjRO0qDmpSUrHysqw)"
      ]
    },
    {
      "cell_type": "markdown",
      "metadata": {
        "id": "iDZwyksY5R79"
      },
      "source": [
        "**Description of flow**"
      ]
    },
    {
      "cell_type": "markdown",
      "metadata": {
        "id": "kTvRe3a06GnH"
      },
      "source": [
        "- How it all fits: \n",
        " - We set up our client devices - Raspberry Pi and Android to connect to the MQTT broker at IP:192.168.4.14. The client devices establish connection to MQTT broker and the broker mediates the pub-sub topics. There is no direct connection between the clients; the broker channels all the communication between the devices. \n",
        "- Where’s the broker? \n",
        " - In our set up, the broker resides in the Android App. \n",
        "- How do the software components relate to your hardware components?\n",
        " - i) MQTT app installed as part of set-up. \n",
        " - ii)We run the MQTT client in the Raspberry Pi(client.py) and Android device.\n",
        "- Who is subscribing/publishing? \n",
        " - Raspberry Pi publishes testTopic2 with '6000' as message and subscribes to testTopic1. Android device publishes testTopic1 with 'Hello World' as message and subscribes to testTopic2. At the client side, the loop function is set to read the receive and send buffers. The client(Raspberry Pi) script is set up to execute call back function on_message to publish messages to the broker and once the client's receiver sees a message it is set up to subscribe topic testTopic1. The message 'Hello World' gets displayed in the Pi's terminal. A similar action gets executed at the Android device.\n"
      ]
    },
    {
      "cell_type": "markdown",
      "metadata": {
        "id": "s7CeUFfivq3P"
      },
      "source": [
        "**Pi code**"
      ]
    },
    {
      "cell_type": "code",
      "metadata": {
        "id": "aDJPFoOw0Zv5"
      },
      "source": [
        "import paho.mqtt.client as mqtt\n",
        "import time\n",
        "\n",
        "broker_address = \"192.168.4.14\" #enter your broker address here\n",
        "subscribetopic = \"testTopic1\"\n",
        "publishtopic = \"testTopic2\"\n",
        "\n",
        "def on_message(client, userdata, message):\n",
        "  print(\"message received \", str(message.payload.decode(\"utf-8\")))\n",
        "  print(\"message topic=\", message.topic)\n",
        "  print(\"message qos=\", message.qos)\n",
        "  print(\"message retain flag=\", message.retain)\n",
        "  time.sleep(5)\n",
        "  print(\"sending pulication\")\n",
        "  client.publish(publishtopic, \"6000\")\n",
        "\n",
        "client = mqtt.Client(\"P1\")\n",
        "client.on_message = on_message\n",
        "client.connect(broker_address)\n",
        "client.loop_start()\n",
        "client.subscribe(subscribetopic)\n",
        "time.sleep(10)\n",
        "client.loop_stop()"
      ],
      "execution_count": null,
      "outputs": []
    },
    {
      "cell_type": "markdown",
      "metadata": {
        "id": "f_MXRlbSulHs"
      },
      "source": [
        "**Android code**"
      ]
    },
    {
      "cell_type": "markdown",
      "metadata": {
        "id": "E0k59dBD5z7Q"
      },
      "source": [
        "[Android code](https://github.com/UT-APAD/SampleMQTTAndroidApp)"
      ]
    },
    {
      "cell_type": "markdown",
      "metadata": {
        "id": "bsCuHR7n6vB0"
      },
      "source": [
        "# **<font color=blue>Step 7: Submit as described in Step 7</font>**"
      ]
    },
    {
      "cell_type": "markdown",
      "metadata": {
        "id": "bO7k27QT65Rt"
      },
      "source": [
        "**Reflect/restate: in your own words, why is it better to run the broker on the Raspberry Pi instead of the Android device? Give at least two reasons.**"
      ]
    },
    {
      "cell_type": "markdown",
      "metadata": {
        "id": "W_aY5IGk9Vt8"
      },
      "source": [
        "- From design perspective, both Microbit and Android App connect to Raspberry Pi so it seems logical for Pi to be hosting the broker.\n",
        "- Secondly, since broker and client were running in Android App it was difficult for us to confirm (partly via logcat and partly via MQTT broker App)\n",
        "if the clients are working as expected. \n",
        "- We also do not need to restart/connect to MQTT broker on the Android  every time we need to pub/sub topics."
      ]
    },
    {
      "cell_type": "markdown",
      "metadata": {
        "id": "tD-pm0tp0cjX"
      },
      "source": [
        "# **<font color=blue>Step 8: Submit your design, including a brief textual description and the associated sequence diagram.</font>**"
      ]
    },
    {
      "cell_type": "markdown",
      "metadata": {
        "id": "1SQChmpG6ait"
      },
      "source": [
        "**Sequence Diagram**"
      ]
    },
    {
      "cell_type": "markdown",
      "metadata": {
        "id": "WWVKyy2b6STd"
      },
      "source": [
        "![picture](https://drive.google.com/uc?id=1R5cAwGsqRtkwRtC_ynCuYtzN0W5gdvl7)"
      ]
    },
    {
      "cell_type": "markdown",
      "metadata": {
        "id": "mc1Zcyww6gog"
      },
      "source": [
        "**Description of flow**"
      ]
    },
    {
      "cell_type": "markdown",
      "metadata": {
        "id": "gSeUL1Zd9X1Y"
      },
      "source": [
        "In this step, the Raspberry Pi receives BLE signals from microbit. Microbit advertises step count at the press of Button A (trigger button). Again, the clients at Raspberry Pi and Android device are connected to broker at 192.168.4.14. Once the client at Raspberry Pi receives the BLE, Raspberry Pi publishes the step count as testTopic2. The Android device is subscribed to this topic, so when the client at Android device sees the published topic in the receive buffer it executes call back 'messageArrived' to print the steps. "
      ]
    },
    {
      "cell_type": "markdown",
      "metadata": {
        "id": "Sex1KcNE0ezw"
      },
      "source": [
        "**Design - Pi Code**"
      ]
    },
    {
      "cell_type": "code",
      "metadata": {
        "id": "yvaQBQJO0mag"
      },
      "source": [
        "pi@raspberrypi:~ $ cat client_rathi.py\n",
        "\n",
        "import paho.mqtt.client as mqtt\n",
        "import time\n",
        "import aioblescan as aiobs \n",
        "from aioblescan.plugins import EddyStone \n",
        "import asyncio\n",
        "from urllib.parse import urlparse\n",
        "from datetime import datetime\n",
        "\n",
        "def _process_packet(data): \n",
        "    ev = aiobs.HCI_Event() \n",
        "    xx = ev.decode(data) \n",
        "    xx = EddyStone().decode(ev)\n",
        "    broker_address = \"192.168.4.14\"  \n",
        "    subscribetopic = \"testTopic1\"\n",
        "    publishtopic = \"testTopic2\"\n",
        "    \n",
        "    if xx:\n",
        "        print(\"Google beacon:{}\".format(xx))\n",
        "        group = xx.get('url')[8:14]\n",
        "        if group == 'group4':\n",
        "          steps =xx.get('url')[26:]\n",
        "          \n",
        "           \n",
        "          print('***beacon received******')\n",
        "          print('Step count{}'.format(steps))\n",
        "          \n",
        "          print('***MQTT call ***********')\n",
        "          client = mqtt.Client(\"P1\")\n",
        "\n",
        "          print('***MQTT call success*****')\n",
        "          print('*****Connecting to broker****')\n",
        "          client.connect(broker_address)\n",
        "          print(\"******Publish*****\")\n",
        "          client.publish(publishtopic, steps)\n",
        "          client.loop_start()\n",
        "          print(\"******Subscribe****\")\n",
        "          client.subscribe(subscribetopic)\n",
        "          time.sleep(10)\n",
        "          client.loop_stop()\n",
        "\n",
        "                \n",
        "        \n",
        "if __name__=='__main__':\n",
        "    \n",
        "    mydev = 0 \n",
        "    event_loop = asyncio.get_event_loop()\n",
        "    print(event_loop)\n",
        "    mysocket = aiobs.create_bt_socket(mydev) \n",
        "    fac = event_loop._create_connection_transport(mysocket,aiobs.BLEScanRequester,None,None) \n",
        "    conn, btctrl = event_loop.run_until_complete(fac) \n",
        "    btctrl.process = _process_packet\n",
        "    print('after steps display')\n",
        "    print(btctrl.process)\n",
        "    btctrl.send_scan_request()\n",
        "    print('after send scan')\n",
        "    \n",
        "    try:\n",
        "        \n",
        "        event_loop.run_forever()\n",
        "        print(\"loop forever\")\n",
        "    except KeyboardInterrupt: \n",
        "        print('keyboard interrupt') \n",
        "    finally: \n",
        "        print('closing event loop') \n",
        "        btctrl.stop_scan_request() \n",
        "        conn.close() \n",
        "        event_loop.close()\n",
        "\n"
      ],
      "execution_count": null,
      "outputs": []
    }
  ]
}
{
  "nbformat": 4,
  "nbformat_minor": 0,
  "metadata": {
    "colab": {
      "name": "Emerging Tech Milestone5 Report.ipynb",
      "provenance": [],
      "collapsed_sections": []
    },
    "kernelspec": {
      "name": "python3",
      "display_name": "Python 3"
    },
    "language_info": {
      "name": "python"
    }
  },
  "cells": [
    {
      "cell_type": "markdown",
      "metadata": {
        "id": "6RxHVx5xk_Us"
      },
      "source": [
        "# **Team ‑ Group 4**\n",
        "\n",
        "***Rathi Kannan rk27867***\n",
        "\n",
        "***Gowtami Khambhampati gk6952***\n",
        "\n",
        "***Danqing Wang dw33369***\n",
        "\n",
        "***Shreya Bakshi sb59344***\n",
        "\n",
        "\n",
        "\n"
      ]
    },
    {
      "cell_type": "markdown",
      "metadata": {
        "id": "cZ6Mpx72sA5E"
      },
      "source": [
        "##  **<font color=\"blue\">(1) challenges you faced in each step</font>** \n",
        " - **Step 1 - 3:** \n",
        "  -  No issues in implementation\n",
        " - **Step 4:** \n",
        "  -  We were able to call the API to fetch the forecasted weather but when we printed the forecast date, depending on the time of the day we ran the program, the date was not reflecting the following day's date all the time. This was because the forecast API was returning 7 days of forecast split for every three hours. So, we changed the Kotlin code to include date logic to return the forecast for the right date.\n",
        " - **Step 5:** \n",
        "  -  No issues in implementation\n",
        " - **Step 6:**\n",
        "  -  Weights based on the dataset from entire class gave us very high numbers for predicted steps. Our step counter, was originally set up to increment by 1, so we were never able to predict the situation for goal achieved. We mocked the data by changing microbit code to increment by thousands to test both conditions (work harder/Goal achieved).\n",
        " - **Step 7:**\n",
        "   -  This was a fun step to integrate UI with ease of usability of devices. We did not face any particular challenge here.\n",
        " - **Step 8:**\n",
        "  -  We had trouble using bluetoothctl to send messages to Microbit.\n",
        "  Although, we were able to discover the Microbit programmatically, the message transfer was not successful. Serial connection between Pi and Microbit helped resolve this issue.\n",
        " - **Step 9:**\n",
        "  -  Misunderstood this requirement initially to perhaps hardcode and switch the ip addresses within the Android code. Once we understood that we had to only launch the wireless settings page to change the network, implementation was doable. \n",
        "\n",
        "**Common challenges that we faced in all the steps**\n",
        " - **Connectivity issue to Pi Wifi**\n",
        "\n",
        "  -  One of the challenges we faced was maintaining a stable connection to Raspberry Pi using IOT wifi. We had to switch the wifi multiple times back and forth to maintain the connectivity and it required a lot of manual effort and was time consuming.\n",
        "\n",
        " - **Connectivity issue to MQTT broker**\n",
        "\n",
        "  -  MQTT broker would often get disconneted and we would not be able to publish or subscribe any messages to and from Pi and the error message -\"broker not accessible\" would get displayed . We had to manually restart the Android phone multiple times to establish connection to the broker.\n",
        "\n",
        " - **Time lag between Pi and Microbit**\n",
        "\n",
        "  -  We established a reliable communication from microbit to Pi, only upon pressing button A step count will get displayed on the Pi . However , often there would be a lag between microbit and Pi and though step counts would change on the microbit but it would take some time to display the updated step counts on the Pi terminal."
      ]
    },
    {
      "cell_type": "markdown",
      "metadata": {
        "id": "cP0QIJAUsE2c"
      },
      "source": [
        "## **<font color=\"blue\">(2) the trade-offs between this device to some actual health app (apart from accuracy and prediction)</font>**\n",
        " - We are employing multiple devices in our custom Stepcount app. An actual health App uses one device to aggregate the jobs of Microbit/Pi and Android App.\n",
        " - Applying gestures/ accelerometer to increment step count is an involved process and the sync doesnt not appear immediately. The transfer of information appears slow."
      ]
    },
    {
      "cell_type": "markdown",
      "metadata": {
        "id": "nUgFWGyysHz0"
      },
      "source": [
        "## **<font color=\"blue\">(3) your (brief) thoughts on, if you were to sell this product, knowing the disadvantages, how would you possibly commercialize it;</font>**\n",
        " - Given that the sync across devices is slow, we would perhaps add additional features to play music or display engaging advertisements to keep the user enthralled/ glued to the App.\n",
        " - The Microbit could be designed in custom encasing and promoted as an add on exciting addition to footwear, like a clip on - similar to the colorful Crocs pins.\n",
        " \n"
      ]
    },
    {
      "cell_type": "markdown",
      "metadata": {
        "id": "gqFJ8U_bsP__"
      },
      "source": [
        " ## **<font color=\"blue\">(4) at least one advantage and disadvantage of our prediction model?</font>**\n",
        "  - **Advantage**\n",
        "   - Prediction model was easy to understand and implement.\n",
        "\n",
        "  - **Disadvantage**\n",
        "   - Testing the model based off the actual steps from our Microbit was challenging. For Milestone5, the weights were based on the class step count so the numbers were generally higher and so actual steps had to be manipulated to jump by 1000 to create different test scenarios."
      ]
    },
    {
      "cell_type": "markdown",
      "metadata": {
        "id": "wqnTlks8neZl"
      },
      "source": [
        "[Pi Github](https://github.com/ratsi2909/MSITM_EmergingTech/tree/main/Group4_Milestone5)\n"
      ]
    },
    {
      "cell_type": "markdown",
      "metadata": {
        "id": "FfTfHoK5oMG7"
      },
      "source": [
        "[Android Github](https://github.com/ratsi2909/StepCountsApp)"
      ]
    }
  ]
}
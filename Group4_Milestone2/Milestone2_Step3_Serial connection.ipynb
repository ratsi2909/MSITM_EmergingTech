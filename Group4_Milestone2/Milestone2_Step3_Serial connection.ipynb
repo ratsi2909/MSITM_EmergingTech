{
 "cells": [
  {
   "cell_type": "code",
   "execution_count": null,
   "metadata": {},
   "outputs": [],
   "source": [
    "import serial \n",
    "s = serial.Serial(timeout=0.1) \n",
    "s.baudrate = 115200 \n",
    "s.port = '/dev/ttyACM0'\n",
    "s.open() \n",
    "while True:\n",
    "    data =str(s.readline())\n",
    "    if data: \n",
    "       print(data)\n",
    "    else:\n",
    "       print('No data')\n",
    "       break\n",
    "    \n",
    "s.close()"
   ]
  }
 ],
 "metadata": {
  "kernelspec": {
   "display_name": "Python 3.9.2 64-bit",
   "language": "python",
   "name": "python392jvsc74a57bd0aee8b7b246df8f9039afb4144a1f6fd8d2ca17a180786b69acc140d282b71a49"
  },
  "language_info": {
   "codemirror_mode": {
    "name": "ipython",
    "version": 3
   },
   "file_extension": ".py",
   "mimetype": "text/x-python",
   "name": "python",
   "nbconvert_exporter": "python",
   "pygments_lexer": "ipython3",
   "version": "3.9.2"
  }
 },
 "nbformat": 4,
 "nbformat_minor": 4
}
